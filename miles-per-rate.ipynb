{
 "cells": [
  {
   "cell_type": "markdown",
   "id": "431a0af0",
   "metadata": {
    "papermill": {
     "duration": 0.007874,
     "end_time": "2021-12-15T19:57:59.007082",
     "exception": false,
     "start_time": "2021-12-15T19:57:58.999208",
     "status": "completed"
    },
    "tags": []
   },
   "source": [
    "## Parameters"
   ]
  },
  {
   "cell_type": "code",
   "execution_count": 1,
   "id": "4fa5bbc4",
   "metadata": {
    "papermill": {
     "duration": 32.808149,
     "end_time": "2021-12-15T19:58:31.819997",
     "exception": false,
     "start_time": "2021-12-15T19:57:59.011848",
     "status": "completed"
    },
    "tags": [
     "parameters"
    ]
   },
   "outputs": [
    {
     "data": {
      "application/vnd.jupyter.widget-view+json": {
       "model_id": "1bd4c14e636b48debed18ff9f73ddf9f",
       "version_major": 2,
       "version_minor": 0
      },
      "text/plain": [
       "VBox()"
      ]
     },
     "metadata": {},
     "output_type": "display_data"
    },
    {
     "name": "stdout",
     "output_type": "stream",
     "text": [
      "Starting Spark application\n"
     ]
    },
    {
     "data": {
      "text/html": [
       "<table>\n",
       "<tr><th>ID</th><th>YARN Application ID</th><th>Kind</th><th>State</th><th>Spark UI</th><th>Driver log</th><th>Current session?</th></tr><tr><td>19</td><td>application_1638192040318_0020</td><td>pyspark</td><td>idle</td><td><a target=\"_blank\" href=\"http://ip-10-0-20-153.ec2.internal:20888/proxy/application_1638192040318_0020/\" class=\"emr-proxy-link\" emr-resource=\"j-3T8B043N3R1ZH\n",
       "\" application-id=\"application_1638192040318_0020\">Link</a></td><td><a target=\"_blank\" href=\"http://ip-10-0-20-139.ec2.internal:8042/node/containerlogs/container_1638192040318_0020_01_000001/livy\" >Link</a></td><td>✔</td></tr></table>"
      ],
      "text/plain": [
       "<IPython.core.display.HTML object>"
      ]
     },
     "metadata": {},
     "output_type": "display_data"
    },
    {
     "data": {
      "application/vnd.jupyter.widget-view+json": {
       "model_id": "e204c10dd0e04912aba6eb0cad335ee1",
       "version_major": 2,
       "version_minor": 0
      },
      "text/plain": [
       "FloatProgress(value=0.0, bar_style='info', description='Progress:', layout=Layout(height='25px', width='50%'),…"
      ]
     },
     "metadata": {},
     "output_type": "display_data"
    },
    {
     "name": "stdout",
     "output_type": "stream",
     "text": [
      "SparkSession available as 'spark'.\n"
     ]
    },
    {
     "data": {
      "application/vnd.jupyter.widget-view+json": {
       "model_id": "5870d9875e3f4cef95113c0980ae0fbf",
       "version_major": 2,
       "version_minor": 0
      },
      "text/plain": [
       "FloatProgress(value=0.0, bar_style='info', description='Progress:', layout=Layout(height='25px', width='50%'),…"
      ]
     },
     "metadata": {},
     "output_type": "display_data"
    }
   ],
   "source": [
    "# Parameters\n",
    "s3file = \"yellow_tripdata_2020-11.csv\"\n"
   ]
  },
  {
   "cell_type": "code",
   "execution_count": 1,
   "metadata": {
    "papermill": {
     "duration": 0.125645,
     "end_time": "2021-12-15T19:58:31.958950",
     "exception": false,
     "start_time": "2021-12-15T19:58:31.833305",
     "status": "completed"
    },
    "tags": [
     "injected-parameters"
    ]
   },
   "outputs": [
    {
     "data": {
      "application/vnd.jupyter.widget-view+json": {
       "model_id": "5fb424aad839409391e66ace280b5e62",
       "version_major": 2,
       "version_minor": 0
      },
      "text/plain": [
       "VBox()"
      ]
     },
     "metadata": {},
     "output_type": "display_data"
    },
    {
     "data": {
      "application/vnd.jupyter.widget-view+json": {
       "model_id": "31d2735cba4f4ac89bc54938a44023bb",
       "version_major": 2,
       "version_minor": 0
      },
      "text/plain": [
       "FloatProgress(value=0.0, bar_style='info', description='Progress:', layout=Layout(height='25px', width='50%'),…"
      ]
     },
     "metadata": {},
     "output_type": "display_data"
    }
   ],
   "source": [
    "# Parameters\n",
    "s3file = \"yellow_tripdata_2021-04.csv\"\n"
   ]
  },
  {
   "cell_type": "code",
   "execution_count": 1,
   "id": "92092e4f",
   "metadata": {
    "papermill": {
     "duration": 0.112408,
     "end_time": "2021-12-15T19:58:32.080597",
     "exception": false,
     "start_time": "2021-12-15T19:58:31.968189",
     "status": "completed"
    },
    "tags": []
   },
   "outputs": [
    {
     "data": {
      "application/vnd.jupyter.widget-view+json": {
       "model_id": "47f2d103d4ad455eb6d9e999f0873c30",
       "version_major": 2,
       "version_minor": 0
      },
      "text/plain": [
       "VBox()"
      ]
     },
     "metadata": {},
     "output_type": "display_data"
    },
    {
     "data": {
      "application/vnd.jupyter.widget-view+json": {
       "model_id": "060d4ef6de384adf961da3f96b55626e",
       "version_major": 2,
       "version_minor": 0
      },
      "text/plain": [
       "FloatProgress(value=0.0, bar_style='info', description='Progress:', layout=Layout(height='25px', width='50%'),…"
      ]
     },
     "metadata": {},
     "output_type": "display_data"
    }
   ],
   "source": [
    "sourceBucketPath = \"s3://nyc-tlc/trip data/\"\n",
    "OutputBucketPath = \"s3://datalakebucketsumir/testbucket/\""
   ]
  },
  {
   "cell_type": "markdown",
   "id": "fd2da953",
   "metadata": {
    "papermill": {
     "duration": 0.007507,
     "end_time": "2021-12-15T19:58:32.095798",
     "exception": false,
     "start_time": "2021-12-15T19:58:32.088291",
     "status": "completed"
    },
    "tags": []
   },
   "source": [
    "## Read the input from the location and create a taxi_data temp table"
   ]
  },
  {
   "cell_type": "code",
   "execution_count": 1,
   "id": "d7db3d30",
   "metadata": {
    "papermill": {
     "duration": 17.411697,
     "end_time": "2021-12-15T19:58:49.515190",
     "exception": false,
     "start_time": "2021-12-15T19:58:32.103493",
     "status": "completed"
    },
    "tags": []
   },
   "outputs": [
    {
     "data": {
      "application/vnd.jupyter.widget-view+json": {
       "model_id": "e6ca032f67da4389b36a66b6673efa4b",
       "version_major": 2,
       "version_minor": 0
      },
      "text/plain": [
       "VBox()"
      ]
     },
     "metadata": {},
     "output_type": "display_data"
    },
    {
     "data": {
      "application/vnd.jupyter.widget-view+json": {
       "model_id": "e8f3c3bac0fc43059602138721cde272",
       "version_major": 2,
       "version_minor": 0
      },
      "text/plain": [
       "FloatProgress(value=0.0, bar_style='info', description='Progress:', layout=Layout(height='25px', width='50%'),…"
      ]
     },
     "metadata": {},
     "output_type": "display_data"
    }
   ],
   "source": [
    "inputPath = sourceBucketPath + s3file\n",
    "taxiData = spark.read.option(\"inferSchema\", \"true\").option(\"header\", \"true\").csv(inputPath)\n",
    "taxiData.createOrReplaceTempView(\"taxi_data\")"
   ]
  },
  {
   "cell_type": "markdown",
   "id": "0a4e11a0",
   "metadata": {
    "papermill": {
     "duration": 0.008429,
     "end_time": "2021-12-15T19:58:49.541158",
     "exception": false,
     "start_time": "2021-12-15T19:58:49.532729",
     "status": "completed"
    },
    "tags": []
   },
   "source": [
    "## Get the trip distance by RateCodeId"
   ]
  },
  {
   "cell_type": "code",
   "execution_count": 1,
   "id": "c2920394",
   "metadata": {
    "papermill": {
     "duration": 0.319323,
     "end_time": "2021-12-15T19:58:49.869642",
     "exception": false,
     "start_time": "2021-12-15T19:58:49.550319",
     "status": "completed"
    },
    "tags": []
   },
   "outputs": [
    {
     "data": {
      "application/vnd.jupyter.widget-view+json": {
       "model_id": "314aed2a504c4058bcc37ac52e0c10dd",
       "version_major": 2,
       "version_minor": 0
      },
      "text/plain": [
       "VBox()"
      ]
     },
     "metadata": {},
     "output_type": "display_data"
    },
    {
     "data": {
      "application/vnd.jupyter.widget-view+json": {
       "model_id": "a863ee64e6ae4f10849fc0b71a1cdd57",
       "version_major": 2,
       "version_minor": 0
      },
      "text/plain": [
       "FloatProgress(value=0.0, bar_style='info', description='Progress:', layout=Layout(height='25px', width='50%'),…"
      ]
     },
     "metadata": {},
     "output_type": "display_data"
    }
   ],
   "source": [
    "result = spark.sql(\"select RatecodeID as rate_code, sum(trip_distance) as total_distance from taxi_data group by RatecodeID\")"
   ]
  },
  {
   "cell_type": "markdown",
   "id": "9ab2a38a",
   "metadata": {
    "papermill": {
     "duration": 0.01871,
     "end_time": "2021-12-15T19:58:49.898992",
     "exception": false,
     "start_time": "2021-12-15T19:58:49.880282",
     "status": "completed"
    },
    "tags": []
   },
   "source": [
    "## Write the result in the output path"
   ]
  },
  {
   "cell_type": "code",
   "execution_count": 1,
   "id": "010296ef",
   "metadata": {
    "papermill": {
     "duration": 9.428013,
     "end_time": "2021-12-15T19:58:59.338716",
     "exception": false,
     "start_time": "2021-12-15T19:58:49.910703",
     "status": "completed"
    },
    "tags": []
   },
   "outputs": [
    {
     "data": {
      "application/vnd.jupyter.widget-view+json": {
       "model_id": "eeea5ef3209b4367bc57d1529e985ae4",
       "version_major": 2,
       "version_minor": 0
      },
      "text/plain": [
       "VBox()"
      ]
     },
     "metadata": {},
     "output_type": "display_data"
    },
    {
     "data": {
      "application/vnd.jupyter.widget-view+json": {
       "model_id": "4f1d4ba5248a41b2a821217cc5e816ed",
       "version_major": 2,
       "version_minor": 0
      },
      "text/plain": [
       "FloatProgress(value=0.0, bar_style='info', description='Progress:', layout=Layout(height='25px', width='50%'),…"
      ]
     },
     "metadata": {},
     "output_type": "display_data"
    }
   ],
   "source": [
    "outputPath = OutputBucketPath + \"/miles-per-rate\"\n",
    "result.write.parquet(outputPath)"
   ]
  }
 ],
 "metadata": {
  "celltoolbar": "Tags",
  "kernelspec": {
   "display_name": "PySpark",
   "language": "",
   "name": "pysparkkernel"
  },
  "language_info": {
   "codemirror_mode": {
    "name": "python",
    "version": 3
   },
   "mimetype": "text/x-python",
   "name": "pyspark",
   "pygments_lexer": "python3"
  },
  "papermill": {
   "duration": null,
   "end_time": null,
   "environment_variables": {},
   "exception": null,
   "input_path": "/home/notebook/work/miles-per-rate.ipynb",
   "output_path": "/home/notebook/work/executions/ex-J00H4QLXPMF28YLIFJK1O66NYMYWO/miles-per-rate.ipynb",
   "parameters": {
    "s3file": "yellow_tripdata_2021-04.csv"
   },
   "start_time": "2021-12-15T19:57:57.727513",
   "version": "1.2.1"
  }
 },
 "nbformat": 4,
 "nbformat_minor": 5
}
