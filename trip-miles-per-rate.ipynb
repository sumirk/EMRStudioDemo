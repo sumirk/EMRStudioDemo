{
 "cells": [
  {
   "cell_type": "markdown",
   "id": "1b232b03",
   "metadata": {},
   "source": [
    "## Parameters"
   ]
  },
  {
   "cell_type": "code",
   "execution_count": null,
   "id": "02b35196",
   "metadata": {
    "tags": [
     "parameters"
    ]
   },
   "outputs": [],
   "source": [
    "# Parameters\n",
    "bucketPath = \"s3://<s3-bucket-name>\""
   ]
  },
  {
   "cell_type": "markdown",
   "id": "3ddbba02",
   "metadata": {},
   "source": [
    "## Read the input from the location and create a taxi_data temp table"
   ]
  },
  {
   "cell_type": "code",
   "execution_count": null,
   "id": "1e17a97e",
   "metadata": {},
   "outputs": [],
   "source": [
    "inputPath = bucketPath + \"/input/tripdata.csv\"\n",
    "taxiData = spark.read.option(\"inferSchema\", \"true\").option(\"header\", \"true\").csv(inputPath)\n",
    "taxiData.createOrReplaceTempView(\"taxi_data\")"
   ]
  },
  {
   "cell_type": "markdown",
   "id": "51437863",
   "metadata": {},
   "source": [
    "## Get the trip distance by RateCodeId"
   ]
  },
  {
   "cell_type": "code",
   "execution_count": null,
   "id": "ab4a4c3e",
   "metadata": {},
   "outputs": [],
   "source": [
    "result = spark.sql(\"select RatecodeID as rate_code, sum(trip_distance) as total_distance from taxi_data group by RatecodeID\")"
   ]
  },
  {
   "cell_type": "markdown",
   "id": "06528fe4",
   "metadata": {},
   "source": [
    "## Write the result in the output path"
   ]
  },
  {
   "cell_type": "code",
   "execution_count": null,
   "id": "f1115bd9",
   "metadata": {},
   "outputs": [],
   "source": [
    "outputPath = bucketPath + \"/miles-per-rate\"\n",
    "result.write.parquet(outputPath)"
   ]
  }
 ],
 "metadata": {
  "celltoolbar": "Tags",
  "kernelspec": {
   "display_name": "PySpark",
   "language": "",
   "name": "pysparkkernel"
  },
  "language_info": {
   "codemirror_mode": {
    "name": "python",
    "version": 3
   },
   "mimetype": "text/x-python",
   "name": "pyspark",
   "pygments_lexer": "python3"
  }
 },
 "nbformat": 4,
 "nbformat_minor": 5
}
